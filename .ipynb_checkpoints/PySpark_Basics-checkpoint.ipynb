{
 "cells": [
  {
   "cell_type": "markdown",
   "id": "trained-moses",
   "metadata": {},
   "source": [
    "import libraries(I provide all libs that I need when make this tasks, if you need some external import them here)"
   ]
  },
  {
   "cell_type": "code",
   "execution_count": 35,
   "id": "induced-african",
   "metadata": {},
   "outputs": [],
   "source": [
    "import findspark\n",
    "findspark.init()\n",
    "import pyspark\n",
    "from pyspark.sql import SparkSession\n",
    "from pyspark.sql.types import StructType, StructField, IntegerType, StringType\n",
    "from pyspark.sql.functions import col\n",
    "from pyspark.sql.functions import max, avg, min\n",
    "from pyspark.sql.window import Window\n",
    "from pyspark.sql.functions import row_number, dense_rank\n",
    "from pyspark.sql.functions import when\n",
    "import pandas as pd"
   ]
  },
  {
   "cell_type": "markdown",
   "id": "permanent-photographer",
   "metadata": {},
   "source": [
    "create local SparkSession"
   ]
  },
  {
   "cell_type": "code",
   "execution_count": 2,
   "id": "stock-partnership",
   "metadata": {},
   "outputs": [
    {
     "name": "stderr",
     "output_type": "stream",
     "text": [
      "Setting default log level to \"WARN\".\n",
      "To adjust logging level use sc.setLogLevel(newLevel). For SparkR, use setLogLevel(newLevel).\n"
     ]
    }
   ],
   "source": [
    "spark = SparkSession.builder.master(\"local[1]\").appName(\"my_spark_app\").getOrCreate()"
   ]
  },
  {
   "cell_type": "markdown",
   "id": "juvenile-blame",
   "metadata": {},
   "source": [
    "read csv with inferschema"
   ]
  },
  {
   "cell_type": "code",
   "execution_count": 3,
   "id": "computational-liverpool",
   "metadata": {},
   "outputs": [
    {
     "name": "stdout",
     "output_type": "stream",
     "text": [
      "CPU times: user 5.92 ms, sys: 0 ns, total: 5.92 ms\n",
      "Wall time: 3.07 s\n"
     ]
    }
   ],
   "source": [
    "%%time\n",
    "df = spark.read.options(header=True, inferschema=True).csv(\"ds_salaries.csv\")"
   ]
  },
  {
   "cell_type": "markdown",
   "id": "stopped-dominant",
   "metadata": {},
   "source": [
    "read csv one more time with the same code and you will see that it almostly don't take time, because info already in SparkSession and it will not read nothing\n",
    "from this file"
   ]
  },
  {
   "cell_type": "code",
   "execution_count": 4,
   "id": "aging-neighborhood",
   "metadata": {},
   "outputs": [
    {
     "name": "stdout",
     "output_type": "stream",
     "text": [
      "CPU times: user 2.98 ms, sys: 566 µs, total: 3.54 ms\n",
      "Wall time: 219 ms\n"
     ]
    }
   ],
   "source": [
    "%%time\n",
    "df = spark.read.options(header=True, inferschema=True).csv(\"ds_salaries.csv\")"
   ]
  },
  {
   "cell_type": "markdown",
   "id": "mature-tomorrow",
   "metadata": {},
   "source": [
    "write schema of scv on screen"
   ]
  },
  {
   "cell_type": "code",
   "execution_count": 20,
   "id": "least-communications",
   "metadata": {},
   "outputs": [
    {
     "name": "stdout",
     "output_type": "stream",
     "text": [
      "root\n",
      " |-- _c0: integer (nullable = true)\n",
      " |-- work_year: integer (nullable = true)\n",
      " |-- experience_level: string (nullable = true)\n",
      " |-- employment_type: string (nullable = true)\n",
      " |-- job_title: string (nullable = true)\n",
      " |-- salary: integer (nullable = true)\n",
      " |-- salary_currency: string (nullable = true)\n",
      " |-- salary_in_usd: integer (nullable = true)\n",
      " |-- employee_residence: string (nullable = true)\n",
      " |-- remote_ratio: integer (nullable = true)\n",
      " |-- company_location: string (nullable = true)\n",
      " |-- company_size: string (nullable = true)\n",
      "\n"
     ]
    }
   ],
   "source": [
    "df.printSchema()"
   ]
  },
  {
   "cell_type": "markdown",
   "id": "connected-brother",
   "metadata": {},
   "source": [
    "create schema of this scv"
   ]
  },
  {
   "cell_type": "code",
   "execution_count": 3,
   "id": "progressive-dictionary",
   "metadata": {},
   "outputs": [],
   "source": [
    "schema = StructType([ \\\n",
    "StructField(\"№\", IntegerType(), True), \\\n",
    "StructField(\"work_year\", IntegerType(), True), \\\n",
    "StructField(\"experience_level\", StringType(), True), \\\n",
    "StructField(\"employment_type\", StringType(), True), \\\n",
    "StructField(\"job_title\", StringType(), True), \\\n",
    "StructField(\"salary\", IntegerType(), True), \\\n",
    "StructField(\"salary_currency\", StringType(), True), \\\n",
    "StructField(\"salary_in_USD\", IntegerType(), True), \\\n",
    "StructField(\"employment_residence\", StringType(), True), \\\n",
    "StructField(\"remote_ratio\", IntegerType(), True), \\\n",
    "StructField(\"company_location\", StringType(), True), \\\n",
    "StructField(\"company_size\", StringType(), True) \\\n",
    "])"
   ]
  },
  {
   "cell_type": "markdown",
   "id": "auburn-sauce",
   "metadata": {},
   "source": [
    "restart kernel without cleaning output and after restarting you need to initialize SparkSession, after initialize start execute only cells from cell with schema=\n",
    "=StructType.... \n",
    "To restart kernel click Kernel, Restart."
   ]
  },
  {
   "cell_type": "markdown",
   "id": "artistic-hospital",
   "metadata": {},
   "source": [
    "read ds_salaries with predefined schema and compare results from this cell and cell with inferSchema"
   ]
  },
  {
   "cell_type": "code",
   "execution_count": 4,
   "id": "literary-plaintiff",
   "metadata": {},
   "outputs": [
    {
     "name": "stdout",
     "output_type": "stream",
     "text": [
      "CPU times: user 3.95 ms, sys: 3.89 ms, total: 7.84 ms\n",
      "Wall time: 1.42 s\n"
     ]
    }
   ],
   "source": [
    "%%time\n",
    "df1 = spark.read.schema(schema).csv(\"ds_salaries.csv\")"
   ]
  },
  {
   "cell_type": "markdown",
   "id": "senior-joint",
   "metadata": {},
   "source": [
    "this happens because read operation is lazy(transformation), but if you use inferschema it start to be action that will create Spark Job, because Spark need to loop throw all file to check datatypes for all columns and this can harm to your code(if we compare to parquet, it will also go to check data types, but parquet provide meta information, so Spark will not go throw all file, he will just read meta information, but csv don't provide such meta information). Also header make Spark to create one more Spark Job to check first line\n",
    "to define name of columns and remember to skeep it when reading. Actual reading start when you will use first action. More about Spark Jobs you will see in next topic"
   ]
  },
  {
   "cell_type": "markdown",
   "id": "underlying-assurance",
   "metadata": {},
   "source": [
    "write schema of scv on screen one more time and compare with previous"
   ]
  },
  {
   "cell_type": "code",
   "execution_count": 6,
   "id": "solid-infection",
   "metadata": {},
   "outputs": [
    {
     "name": "stdout",
     "output_type": "stream",
     "text": [
      "root\n",
      " |-- №: integer (nullable = true)\n",
      " |-- work_year: integer (nullable = true)\n",
      " |-- employment_type: string (nullable = true)\n",
      " |-- job_title: string (nullable = true)\n",
      " |-- salary: integer (nullable = true)\n",
      " |-- salary_currency: string (nullable = true)\n",
      " |-- salary_in_USD: integer (nullable = true)\n",
      " |-- employment_residence: string (nullable = true)\n",
      " |-- remote_ratio: integer (nullable = true)\n",
      " |-- company_location: string (nullable = true)\n",
      " |-- company_size: string (nullable = true)\n",
      "\n"
     ]
    }
   ],
   "source": [
    "df1.printSchema()"
   ]
  },
  {
   "cell_type": "markdown",
   "id": "close-water",
   "metadata": {},
   "source": [
    "now continue to work with one of the dataframes that you create"
   ]
  },
  {
   "cell_type": "markdown",
   "id": "piano-belgium",
   "metadata": {},
   "source": [
    "print data in dataframe using df.show"
   ]
  },
  {
   "cell_type": "code",
   "execution_count": 5,
   "id": "legendary-alarm",
   "metadata": {},
   "outputs": [
    {
     "name": "stdout",
     "output_type": "stream",
     "text": [
      "+----+---------+----------------+---------------+--------------------+--------+---------------+-------------+--------------------+------------+----------------+------------+\n",
      "|   №|work_year|experience_level|employment_type|           job_title|  salary|salary_currency|salary_in_USD|employment_residence|remote_ratio|company_location|company_size|\n",
      "+----+---------+----------------+---------------+--------------------+--------+---------------+-------------+--------------------+------------+----------------+------------+\n",
      "|null|     null|experience_level|employment_type|           job_title|    null|salary_currency|         null|  employee_residence|        null|company_location|company_size|\n",
      "|   0|     2020|              MI|             FT|      Data Scientist|   70000|            EUR|        79833|                  DE|           0|              DE|           L|\n",
      "|   1|     2020|              SE|             FT|Machine Learning ...|  260000|            USD|       260000|                  JP|           0|              JP|           S|\n",
      "|   2|     2020|              SE|             FT|   Big Data Engineer|   85000|            GBP|       109024|                  GB|          50|              GB|           M|\n",
      "|   3|     2020|              MI|             FT|Product Data Analyst|   20000|            USD|        20000|                  HN|           0|              HN|           S|\n",
      "|   4|     2020|              SE|             FT|Machine Learning ...|  150000|            USD|       150000|                  US|          50|              US|           L|\n",
      "|   5|     2020|              EN|             FT|        Data Analyst|   72000|            USD|        72000|                  US|         100|              US|           L|\n",
      "|   6|     2020|              SE|             FT| Lead Data Scientist|  190000|            USD|       190000|                  US|         100|              US|           S|\n",
      "|   7|     2020|              MI|             FT|      Data Scientist|11000000|            HUF|        35735|                  HU|          50|              HU|           L|\n",
      "|   8|     2020|              MI|             FT|Business Data Ana...|  135000|            USD|       135000|                  US|         100|              US|           L|\n",
      "|   9|     2020|              SE|             FT|  Lead Data Engineer|  125000|            USD|       125000|                  NZ|          50|              NZ|           S|\n",
      "|  10|     2020|              EN|             FT|      Data Scientist|   45000|            EUR|        51321|                  FR|           0|              FR|           S|\n",
      "|  11|     2020|              MI|             FT|      Data Scientist| 3000000|            INR|        40481|                  IN|           0|              IN|           L|\n",
      "|  12|     2020|              EN|             FT|      Data Scientist|   35000|            EUR|        39916|                  FR|           0|              FR|           M|\n",
      "|  13|     2020|              MI|             FT|   Lead Data Analyst|   87000|            USD|        87000|                  US|         100|              US|           L|\n",
      "|  14|     2020|              MI|             FT|        Data Analyst|   85000|            USD|        85000|                  US|         100|              US|           L|\n",
      "|  15|     2020|              MI|             FT|        Data Analyst|    8000|            USD|         8000|                  PK|          50|              PK|           L|\n",
      "|  16|     2020|              EN|             FT|       Data Engineer| 4450000|            JPY|        41689|                  JP|         100|              JP|           S|\n",
      "|  17|     2020|              SE|             FT|   Big Data Engineer|  100000|            EUR|       114047|                  PL|         100|              GB|           S|\n",
      "|  18|     2020|              EN|             FT|Data Science Cons...|  423000|            INR|         5707|                  IN|          50|              IN|           M|\n",
      "+----+---------+----------------+---------------+--------------------+--------+---------------+-------------+--------------------+------------+----------------+------------+\n",
      "only showing top 20 rows\n",
      "\n"
     ]
    }
   ],
   "source": [
    "df1.show()"
   ]
  },
  {
   "cell_type": "markdown",
   "id": "tamil-medium",
   "metadata": {},
   "source": [
    "print data in dataframe using display(df.toPandas())"
   ]
  },
  {
   "cell_type": "code",
   "execution_count": 6,
   "id": "connected-dryer",
   "metadata": {},
   "outputs": [
    {
     "data": {
      "text/html": [
       "<div>\n",
       "<style scoped>\n",
       "    .dataframe tbody tr th:only-of-type {\n",
       "        vertical-align: middle;\n",
       "    }\n",
       "\n",
       "    .dataframe tbody tr th {\n",
       "        vertical-align: top;\n",
       "    }\n",
       "\n",
       "    .dataframe thead th {\n",
       "        text-align: right;\n",
       "    }\n",
       "</style>\n",
       "<table border=\"1\" class=\"dataframe\">\n",
       "  <thead>\n",
       "    <tr style=\"text-align: right;\">\n",
       "      <th></th>\n",
       "      <th>№</th>\n",
       "      <th>work_year</th>\n",
       "      <th>experience_level</th>\n",
       "      <th>employment_type</th>\n",
       "      <th>job_title</th>\n",
       "      <th>salary</th>\n",
       "      <th>salary_currency</th>\n",
       "      <th>salary_in_USD</th>\n",
       "      <th>employment_residence</th>\n",
       "      <th>remote_ratio</th>\n",
       "      <th>company_location</th>\n",
       "      <th>company_size</th>\n",
       "    </tr>\n",
       "  </thead>\n",
       "  <tbody>\n",
       "    <tr>\n",
       "      <th>0</th>\n",
       "      <td>NaN</td>\n",
       "      <td>NaN</td>\n",
       "      <td>experience_level</td>\n",
       "      <td>employment_type</td>\n",
       "      <td>job_title</td>\n",
       "      <td>NaN</td>\n",
       "      <td>salary_currency</td>\n",
       "      <td>NaN</td>\n",
       "      <td>employee_residence</td>\n",
       "      <td>NaN</td>\n",
       "      <td>company_location</td>\n",
       "      <td>company_size</td>\n",
       "    </tr>\n",
       "    <tr>\n",
       "      <th>1</th>\n",
       "      <td>0.0</td>\n",
       "      <td>2020.0</td>\n",
       "      <td>MI</td>\n",
       "      <td>FT</td>\n",
       "      <td>Data Scientist</td>\n",
       "      <td>70000.0</td>\n",
       "      <td>EUR</td>\n",
       "      <td>79833.0</td>\n",
       "      <td>DE</td>\n",
       "      <td>0.0</td>\n",
       "      <td>DE</td>\n",
       "      <td>L</td>\n",
       "    </tr>\n",
       "    <tr>\n",
       "      <th>2</th>\n",
       "      <td>1.0</td>\n",
       "      <td>2020.0</td>\n",
       "      <td>SE</td>\n",
       "      <td>FT</td>\n",
       "      <td>Machine Learning Scientist</td>\n",
       "      <td>260000.0</td>\n",
       "      <td>USD</td>\n",
       "      <td>260000.0</td>\n",
       "      <td>JP</td>\n",
       "      <td>0.0</td>\n",
       "      <td>JP</td>\n",
       "      <td>S</td>\n",
       "    </tr>\n",
       "    <tr>\n",
       "      <th>3</th>\n",
       "      <td>2.0</td>\n",
       "      <td>2020.0</td>\n",
       "      <td>SE</td>\n",
       "      <td>FT</td>\n",
       "      <td>Big Data Engineer</td>\n",
       "      <td>85000.0</td>\n",
       "      <td>GBP</td>\n",
       "      <td>109024.0</td>\n",
       "      <td>GB</td>\n",
       "      <td>50.0</td>\n",
       "      <td>GB</td>\n",
       "      <td>M</td>\n",
       "    </tr>\n",
       "    <tr>\n",
       "      <th>4</th>\n",
       "      <td>3.0</td>\n",
       "      <td>2020.0</td>\n",
       "      <td>MI</td>\n",
       "      <td>FT</td>\n",
       "      <td>Product Data Analyst</td>\n",
       "      <td>20000.0</td>\n",
       "      <td>USD</td>\n",
       "      <td>20000.0</td>\n",
       "      <td>HN</td>\n",
       "      <td>0.0</td>\n",
       "      <td>HN</td>\n",
       "      <td>S</td>\n",
       "    </tr>\n",
       "    <tr>\n",
       "      <th>...</th>\n",
       "      <td>...</td>\n",
       "      <td>...</td>\n",
       "      <td>...</td>\n",
       "      <td>...</td>\n",
       "      <td>...</td>\n",
       "      <td>...</td>\n",
       "      <td>...</td>\n",
       "      <td>...</td>\n",
       "      <td>...</td>\n",
       "      <td>...</td>\n",
       "      <td>...</td>\n",
       "      <td>...</td>\n",
       "    </tr>\n",
       "    <tr>\n",
       "      <th>603</th>\n",
       "      <td>602.0</td>\n",
       "      <td>2022.0</td>\n",
       "      <td>SE</td>\n",
       "      <td>FT</td>\n",
       "      <td>Data Engineer</td>\n",
       "      <td>154000.0</td>\n",
       "      <td>USD</td>\n",
       "      <td>154000.0</td>\n",
       "      <td>US</td>\n",
       "      <td>100.0</td>\n",
       "      <td>US</td>\n",
       "      <td>M</td>\n",
       "    </tr>\n",
       "    <tr>\n",
       "      <th>604</th>\n",
       "      <td>603.0</td>\n",
       "      <td>2022.0</td>\n",
       "      <td>SE</td>\n",
       "      <td>FT</td>\n",
       "      <td>Data Engineer</td>\n",
       "      <td>126000.0</td>\n",
       "      <td>USD</td>\n",
       "      <td>126000.0</td>\n",
       "      <td>US</td>\n",
       "      <td>100.0</td>\n",
       "      <td>US</td>\n",
       "      <td>M</td>\n",
       "    </tr>\n",
       "    <tr>\n",
       "      <th>605</th>\n",
       "      <td>604.0</td>\n",
       "      <td>2022.0</td>\n",
       "      <td>SE</td>\n",
       "      <td>FT</td>\n",
       "      <td>Data Analyst</td>\n",
       "      <td>129000.0</td>\n",
       "      <td>USD</td>\n",
       "      <td>129000.0</td>\n",
       "      <td>US</td>\n",
       "      <td>0.0</td>\n",
       "      <td>US</td>\n",
       "      <td>M</td>\n",
       "    </tr>\n",
       "    <tr>\n",
       "      <th>606</th>\n",
       "      <td>605.0</td>\n",
       "      <td>2022.0</td>\n",
       "      <td>SE</td>\n",
       "      <td>FT</td>\n",
       "      <td>Data Analyst</td>\n",
       "      <td>150000.0</td>\n",
       "      <td>USD</td>\n",
       "      <td>150000.0</td>\n",
       "      <td>US</td>\n",
       "      <td>100.0</td>\n",
       "      <td>US</td>\n",
       "      <td>M</td>\n",
       "    </tr>\n",
       "    <tr>\n",
       "      <th>607</th>\n",
       "      <td>606.0</td>\n",
       "      <td>2022.0</td>\n",
       "      <td>MI</td>\n",
       "      <td>FT</td>\n",
       "      <td>AI Scientist</td>\n",
       "      <td>200000.0</td>\n",
       "      <td>USD</td>\n",
       "      <td>200000.0</td>\n",
       "      <td>IN</td>\n",
       "      <td>100.0</td>\n",
       "      <td>US</td>\n",
       "      <td>L</td>\n",
       "    </tr>\n",
       "  </tbody>\n",
       "</table>\n",
       "<p>608 rows × 12 columns</p>\n",
       "</div>"
      ],
      "text/plain": [
       "         №  work_year  experience_level  employment_type   \n",
       "0      NaN        NaN  experience_level  employment_type  \\\n",
       "1      0.0     2020.0                MI               FT   \n",
       "2      1.0     2020.0                SE               FT   \n",
       "3      2.0     2020.0                SE               FT   \n",
       "4      3.0     2020.0                MI               FT   \n",
       "..     ...        ...               ...              ...   \n",
       "603  602.0     2022.0                SE               FT   \n",
       "604  603.0     2022.0                SE               FT   \n",
       "605  604.0     2022.0                SE               FT   \n",
       "606  605.0     2022.0                SE               FT   \n",
       "607  606.0     2022.0                MI               FT   \n",
       "\n",
       "                      job_title    salary  salary_currency  salary_in_USD   \n",
       "0                     job_title       NaN  salary_currency            NaN  \\\n",
       "1                Data Scientist   70000.0              EUR        79833.0   \n",
       "2    Machine Learning Scientist  260000.0              USD       260000.0   \n",
       "3             Big Data Engineer   85000.0              GBP       109024.0   \n",
       "4          Product Data Analyst   20000.0              USD        20000.0   \n",
       "..                          ...       ...              ...            ...   \n",
       "603               Data Engineer  154000.0              USD       154000.0   \n",
       "604               Data Engineer  126000.0              USD       126000.0   \n",
       "605                Data Analyst  129000.0              USD       129000.0   \n",
       "606                Data Analyst  150000.0              USD       150000.0   \n",
       "607                AI Scientist  200000.0              USD       200000.0   \n",
       "\n",
       "    employment_residence  remote_ratio  company_location  company_size  \n",
       "0     employee_residence           NaN  company_location  company_size  \n",
       "1                     DE           0.0                DE             L  \n",
       "2                     JP           0.0                JP             S  \n",
       "3                     GB          50.0                GB             M  \n",
       "4                     HN           0.0                HN             S  \n",
       "..                   ...           ...               ...           ...  \n",
       "603                   US         100.0                US             M  \n",
       "604                   US         100.0                US             M  \n",
       "605                   US           0.0                US             M  \n",
       "606                   US         100.0                US             M  \n",
       "607                   IN         100.0                US             L  \n",
       "\n",
       "[608 rows x 12 columns]"
      ]
     },
     "metadata": {},
     "output_type": "display_data"
    }
   ],
   "source": [
    "display(df1.toPandas())"
   ]
  },
  {
   "cell_type": "markdown",
   "id": "opponent-gazette",
   "metadata": {},
   "source": [
    "create df_job_title that consists from all job_titles without duplicates"
   ]
  },
  {
   "cell_type": "code",
   "execution_count": 21,
   "id": "friendly-cartridge",
   "metadata": {},
   "outputs": [],
   "source": [
    "df_job_title = df1.select(\"job_title\").dropDuplicates()"
   ]
  },
  {
   "cell_type": "markdown",
   "id": "offshore-architecture",
   "metadata": {},
   "source": [
    "print all rows from df_job_titles without truncating jobs"
   ]
  },
  {
   "cell_type": "code",
   "execution_count": 22,
   "id": "asian-edition",
   "metadata": {},
   "outputs": [
    {
     "name": "stdout",
     "output_type": "stream",
     "text": [
      "+----------------------------------------+\n",
      "|job_title                               |\n",
      "+----------------------------------------+\n",
      "|3D Computer Vision Researcher           |\n",
      "|Lead Data Engineer                      |\n",
      "|Head of Machine Learning                |\n",
      "|Data Specialist                         |\n",
      "|Data Analytics Lead                     |\n",
      "|Machine Learning Scientist              |\n",
      "|Lead Data Analyst                       |\n",
      "|Data Engineering Manager                |\n",
      "|Staff Data Scientist                    |\n",
      "|ETL Developer                           |\n",
      "|Director of Data Engineering            |\n",
      "|Product Data Analyst                    |\n",
      "|Principal Data Scientist                |\n",
      "|AI Scientist                            |\n",
      "|Director of Data Science                |\n",
      "|Machine Learning Engineer               |\n",
      "|Lead Data Scientist                     |\n",
      "|Machine Learning Infrastructure Engineer|\n",
      "|Data Science Engineer                   |\n",
      "|Machine Learning Manager                |\n",
      "+----------------------------------------+\n",
      "only showing top 20 rows\n",
      "\n"
     ]
    }
   ],
   "source": [
    "df_job_title.show(truncate=False)"
   ]
  },
  {
   "cell_type": "markdown",
   "id": "interim-pharmacy",
   "metadata": {},
   "source": [
    "create  df_analytic that will consists from max, avg, min USD salaries for all job_titles using groupBy. name of fields is avg_salary, min_salary, max_salary"
   ]
  },
  {
   "cell_type": "code",
   "execution_count": 38,
   "id": "naval-roller",
   "metadata": {},
   "outputs": [],
   "source": [
    "df_analytic = df1.groupBy([\"job_title\"]) \\\n",
    ".agg( \\\n",
    "     avg(\"salary\").alias(\"avg_salary\"), \\\n",
    "     min(\"salary\").alias(\"min_salary\"), \\\n",
    "     max(\"salary\").alias(\"max_salary\") \\\n",
    "    )"
   ]
  },
  {
   "cell_type": "markdown",
   "id": "french-pledge",
   "metadata": {},
   "source": [
    "print all rows from df_analytic without trancating jobs"
   ]
  },
  {
   "cell_type": "code",
   "execution_count": 39,
   "id": "bacterial-depression",
   "metadata": {},
   "outputs": [
    {
     "name": "stdout",
     "output_type": "stream",
     "text": [
      "+----------------------------------------+------------------+----------+----------+\n",
      "|job_title                               |avg_salary        |min_salary|max_salary|\n",
      "+----------------------------------------+------------------+----------+----------+\n",
      "|3D Computer Vision Researcher           |400000.0          |400000    |400000    |\n",
      "|Lead Data Engineer                      |140333.33333333334|56000     |276000    |\n",
      "|Head of Machine Learning                |6000000.0         |6000000   |6000000   |\n",
      "|Data Specialist                         |165000.0          |165000    |165000    |\n",
      "|Data Analytics Lead                     |405000.0          |405000    |405000    |\n",
      "|Machine Learning Scientist              |158412.5          |12000     |260000    |\n",
      "|Lead Data Analyst                       |569000.0          |87000     |1450000   |\n",
      "|Data Engineering Manager                |119799.8          |51999     |174000    |\n",
      "|Staff Data Scientist                    |105000.0          |105000    |105000    |\n",
      "|ETL Developer                           |50000.0           |50000     |50000     |\n",
      "|Director of Data Engineering            |141250.0          |82500     |200000    |\n",
      "|Product Data Analyst                    |235000.0          |20000     |450000    |\n",
      "|Principal Data Scientist                |206714.2857142857 |130000    |416000    |\n",
      "|AI Scientist                            |290571.4285714286 |12000     |1335000   |\n",
      "|Director of Data Science                |193285.7142857143 |110000    |325000    |\n",
      "|Machine Learning Engineer               |272717.8780487805 |20000     |4900000   |\n",
      "|Lead Data Scientist                     |1101666.6666666667|115000    |3000000   |\n",
      "|Machine Learning Infrastructure Engineer|97333.33333333333 |44000     |195000    |\n",
      "|Data Science Engineer                   |84500.0           |34000     |159500    |\n",
      "|Machine Learning Manager                |157000.0          |157000    |157000    |\n",
      "+----------------------------------------+------------------+----------+----------+\n",
      "only showing top 20 rows\n",
      "\n"
     ]
    }
   ],
   "source": [
    "df_analytic.show(truncate=False)"
   ]
  },
  {
   "cell_type": "markdown",
   "id": "hazardous-color",
   "metadata": {},
   "source": [
    "now you need to add in df_analytic column row_id, that will show order of all job_titles depending on avg salary. they should be descending"
   ]
  },
  {
   "cell_type": "code",
   "execution_count": 40,
   "id": "nearby-treasurer",
   "metadata": {},
   "outputs": [],
   "source": [
    "window_spec = Window.orderBy(col(\"avg_salary\").desc())\n",
    "df_analytic = df_analytic.withColumn(\"row_id\", dense_rank().over(window_spec))"
   ]
  },
  {
   "cell_type": "markdown",
   "id": "documented-catalog",
   "metadata": {},
   "source": [
    "print all data from df_analytic"
   ]
  },
  {
   "cell_type": "code",
   "execution_count": 41,
   "id": "confirmed-monitoring",
   "metadata": {},
   "outputs": [
    {
     "name": "stdout",
     "output_type": "stream",
     "text": [
      "23/05/18 17:13:14 WARN WindowExec: No Partition Defined for Window operation! Moving all data to a single partition, this can cause serious performance degradation.\n",
      "23/05/18 17:13:14 WARN WindowExec: No Partition Defined for Window operation! Moving all data to a single partition, this can cause serious performance degradation.\n",
      "23/05/18 17:13:14 WARN WindowExec: No Partition Defined for Window operation! Moving all data to a single partition, this can cause serious performance degradation.\n",
      "23/05/18 17:13:14 WARN WindowExec: No Partition Defined for Window operation! Moving all data to a single partition, this can cause serious performance degradation.\n",
      "23/05/18 17:13:14 WARN WindowExec: No Partition Defined for Window operation! Moving all data to a single partition, this can cause serious performance degradation.\n",
      "23/05/18 17:13:14 WARN WindowExec: No Partition Defined for Window operation! Moving all data to a single partition, this can cause serious performance degradation.\n",
      "+-----------------------------+------------------+----------+----------+------+\n",
      "|job_title                    |avg_salary        |min_salary|max_salary|row_id|\n",
      "+-----------------------------+------------------+----------+----------+------+\n",
      "|Head of Machine Learning     |6000000.0         |6000000   |6000000   |1     |\n",
      "|ML Engineer                  |2676666.6666666665|14000     |8500000   |2     |\n",
      "|BI Data Analyst              |1902045.3333333333|9272      |11000000  |3     |\n",
      "|Lead Data Scientist          |1101666.6666666667|115000    |3000000   |4     |\n",
      "|Data Science Manager         |1062598.5833333333|137141    |7000000   |5     |\n",
      "|Lead Data Analyst            |569000.0          |87000     |1450000   |6     |\n",
      "|Data Scientist               |508347.2027972028 |4000      |30400000  |7     |\n",
      "|Big Data Engineer            |455000.0          |18000     |1672000   |8     |\n",
      "|Data Analytics Lead          |405000.0          |405000    |405000    |9     |\n",
      "|3D Computer Vision Researcher|400000.0          |400000    |400000    |10    |\n",
      "|Business Data Analyst        |355000.0          |50000     |1400000   |11    |\n",
      "|Principal Data Engineer      |328333.3333333333 |185000    |600000    |12    |\n",
      "|AI Scientist                 |290571.4285714286 |12000     |1335000   |13    |\n",
      "|Financial Data Analyst       |275000.0          |100000    |450000    |14    |\n",
      "|Machine Learning Engineer    |272717.8780487805 |20000     |4900000   |15    |\n",
      "|NLP Engineer                 |240000.0          |240000    |240000    |16    |\n",
      "|Product Data Analyst         |235000.0          |20000     |450000    |17    |\n",
      "|Principal Data Scientist     |206714.2857142857 |130000    |416000    |18    |\n",
      "|Director of Data Science     |193285.7142857143 |110000    |325000    |19    |\n",
      "|Data Engineer                |179210.55303030304|4000      |4450000   |20    |\n",
      "+-----------------------------+------------------+----------+----------+------+\n",
      "only showing top 20 rows\n",
      "\n"
     ]
    }
   ],
   "source": [
    "df_analytic.show(truncate=False)"
   ]
  },
  {
   "cell_type": "markdown",
   "id": "satellite-quarter",
   "metadata": {},
   "source": [
    "it isn't beautifull, so we need to put now row_id on first place in df_analytic"
   ]
  },
  {
   "cell_type": "code",
   "execution_count": 45,
   "id": "ranging-tribune",
   "metadata": {},
   "outputs": [
    {
     "ename": "TypeError",
     "evalue": "type str doesn't define __round__ method",
     "output_type": "error",
     "traceback": [
      "\u001b[0;31m---------------------------------------------------------------------------\u001b[0m",
      "\u001b[0;31mTypeError\u001b[0m                                 Traceback (most recent call last)",
      "Cell \u001b[0;32mIn[45], line 2\u001b[0m\n\u001b[1;32m      1\u001b[0m df_analytic \u001b[38;5;241m=\u001b[39m df_analytic\u001b[38;5;241m.\u001b[39mselect(\u001b[38;5;124m\"\u001b[39m\u001b[38;5;124mrow_id\u001b[39m\u001b[38;5;124m\"\u001b[39m, \u001b[38;5;124m\"\u001b[39m\u001b[38;5;124mjob_title\u001b[39m\u001b[38;5;124m\"\u001b[39m, \u001b[38;5;124m\"\u001b[39m\u001b[38;5;124mavg_salary\u001b[39m\u001b[38;5;124m\"\u001b[39m, \u001b[38;5;124m\"\u001b[39m\u001b[38;5;124mmin_salary\u001b[39m\u001b[38;5;124m\"\u001b[39m, \u001b[38;5;124m\"\u001b[39m\u001b[38;5;124mmax_salary\u001b[39m\u001b[38;5;124m\"\u001b[39m)\n\u001b[0;32m----> 2\u001b[0m df_analytic \u001b[38;5;241m=\u001b[39m df_analytic\u001b[38;5;241m.\u001b[39mwithColumn(\u001b[38;5;124m\"\u001b[39m\u001b[38;5;124mavg_price\u001b[39m\u001b[38;5;124m\"\u001b[39m, \u001b[38;5;28;43mround\u001b[39;49m\u001b[43m(\u001b[49m\u001b[38;5;124;43m\"\u001b[39;49m\u001b[38;5;124;43mavg_price\u001b[39;49m\u001b[38;5;124;43m\"\u001b[39;49m\u001b[43m,\u001b[49m\u001b[43m \u001b[49m\u001b[38;5;241;43m2\u001b[39;49m\u001b[43m)\u001b[49m)\n",
      "\u001b[0;31mTypeError\u001b[0m: type str doesn't define __round__ method"
     ]
    }
   ],
   "source": [
    "df_analytic = df_analytic.select(\"row_id\", \"job_title\", \"avg_salary\", \"min_salary\", \"max_salary\")\n",
    "df_analytic = df_analytic.withColumn(\"avg_price\", round(\"avg_price\", 2))"
   ]
  },
  {
   "cell_type": "markdown",
   "id": "reliable-amsterdam",
   "metadata": {},
   "source": [
    "print df_analytic now"
   ]
  },
  {
   "cell_type": "code",
   "execution_count": 44,
   "id": "classical-biology",
   "metadata": {},
   "outputs": [
    {
     "name": "stdout",
     "output_type": "stream",
     "text": [
      "23/05/18 17:39:38 WARN WindowExec: No Partition Defined for Window operation! Moving all data to a single partition, this can cause serious performance degradation.\n",
      "23/05/18 17:39:38 WARN WindowExec: No Partition Defined for Window operation! Moving all data to a single partition, this can cause serious performance degradation.\n",
      "23/05/18 17:39:38 WARN WindowExec: No Partition Defined for Window operation! Moving all data to a single partition, this can cause serious performance degradation.\n",
      "23/05/18 17:39:38 WARN WindowExec: No Partition Defined for Window operation! Moving all data to a single partition, this can cause serious performance degradation.\n",
      "23/05/18 17:39:38 WARN WindowExec: No Partition Defined for Window operation! Moving all data to a single partition, this can cause serious performance degradation.\n",
      "23/05/18 17:39:38 WARN WindowExec: No Partition Defined for Window operation! Moving all data to a single partition, this can cause serious performance degradation.\n",
      "+------+-----------------------------+------------------+----------+----------+\n",
      "|row_id|job_title                    |avg_salary        |min_salary|max_salary|\n",
      "+------+-----------------------------+------------------+----------+----------+\n",
      "|1     |Head of Machine Learning     |6000000.0         |6000000   |6000000   |\n",
      "|2     |ML Engineer                  |2676666.6666666665|14000     |8500000   |\n",
      "|3     |BI Data Analyst              |1902045.3333333333|9272      |11000000  |\n",
      "|4     |Lead Data Scientist          |1101666.6666666667|115000    |3000000   |\n",
      "|5     |Data Science Manager         |1062598.5833333333|137141    |7000000   |\n",
      "|6     |Lead Data Analyst            |569000.0          |87000     |1450000   |\n",
      "|7     |Data Scientist               |508347.2027972028 |4000      |30400000  |\n",
      "|8     |Big Data Engineer            |455000.0          |18000     |1672000   |\n",
      "|9     |Data Analytics Lead          |405000.0          |405000    |405000    |\n",
      "|10    |3D Computer Vision Researcher|400000.0          |400000    |400000    |\n",
      "|11    |Business Data Analyst        |355000.0          |50000     |1400000   |\n",
      "|12    |Principal Data Engineer      |328333.3333333333 |185000    |600000    |\n",
      "|13    |AI Scientist                 |290571.4285714286 |12000     |1335000   |\n",
      "|14    |Financial Data Analyst       |275000.0          |100000    |450000    |\n",
      "|15    |Machine Learning Engineer    |272717.8780487805 |20000     |4900000   |\n",
      "|16    |NLP Engineer                 |240000.0          |240000    |240000    |\n",
      "|17    |Product Data Analyst         |235000.0          |20000     |450000    |\n",
      "|18    |Principal Data Scientist     |206714.2857142857 |130000    |416000    |\n",
      "|19    |Director of Data Science     |193285.7142857143 |110000    |325000    |\n",
      "|20    |Data Engineer                |179210.55303030304|4000      |4450000   |\n",
      "+------+-----------------------------+------------------+----------+----------+\n",
      "only showing top 20 rows\n",
      "\n"
     ]
    }
   ],
   "source": [
    "df_analytic.show(truncate=False)"
   ]
  },
  {
   "cell_type": "markdown",
   "id": "hybrid-queensland",
   "metadata": {},
   "source": [
    "here you need to create df_exp_lvl with the biggest usd_salary(biggest_salary) for each experience_level(you need to save all fields like in entire dataframe)"
   ]
  },
  {
   "cell_type": "code",
   "execution_count": null,
   "id": "dental-wrist",
   "metadata": {},
   "outputs": [],
   "source": []
  },
  {
   "cell_type": "markdown",
   "id": "innovative-hierarchy",
   "metadata": {},
   "source": [
    "print here df_exp_lvl"
   ]
  },
  {
   "cell_type": "code",
   "execution_count": null,
   "id": "standing-toilet",
   "metadata": {},
   "outputs": [],
   "source": []
  },
  {
   "cell_type": "markdown",
   "id": "hawaiian-mortgage",
   "metadata": {},
   "source": [
    "create df_best that consists from rows where salary of guy same as biggest salary for other people in his exp_lvl and choose only columns: id, experience_level, biggest_salary, employee_residence"
   ]
  },
  {
   "cell_type": "code",
   "execution_count": null,
   "id": "toxic-prompt",
   "metadata": {},
   "outputs": [],
   "source": []
  },
  {
   "cell_type": "markdown",
   "id": "complex-librarian",
   "metadata": {},
   "source": [
    "print df_best"
   ]
  },
  {
   "cell_type": "code",
   "execution_count": null,
   "id": "smart-texas",
   "metadata": {},
   "outputs": [],
   "source": []
  },
  {
   "cell_type": "markdown",
   "id": "integral-brass",
   "metadata": {},
   "source": [
    "drop duplicates if exist by experience_level"
   ]
  },
  {
   "cell_type": "code",
   "execution_count": null,
   "id": "immune-marine",
   "metadata": {},
   "outputs": [],
   "source": []
  },
  {
   "cell_type": "markdown",
   "id": "connected-credit",
   "metadata": {},
   "source": [
    "print df_best"
   ]
  },
  {
   "cell_type": "code",
   "execution_count": null,
   "id": "specified-wellington",
   "metadata": {},
   "outputs": [],
   "source": []
  },
  {
   "cell_type": "markdown",
   "id": "facial-plant",
   "metadata": {},
   "source": [
    "create df_new_best from df_best without id, and make the next: when exp_level = MI we want middle, when SE we want senior, else Null"
   ]
  },
  {
   "cell_type": "code",
   "execution_count": null,
   "id": "infinite-retail",
   "metadata": {},
   "outputs": [],
   "source": []
  },
  {
   "cell_type": "markdown",
   "id": "changing-fairy",
   "metadata": {},
   "source": [
    "print df_new_best"
   ]
  },
  {
   "cell_type": "code",
   "execution_count": null,
   "id": "endless-framework",
   "metadata": {},
   "outputs": [],
   "source": []
  },
  {
   "cell_type": "markdown",
   "id": "mineral-status",
   "metadata": {},
   "source": [
    "write df_new_best like 1.csv and load then it to df_final"
   ]
  },
  {
   "cell_type": "code",
   "execution_count": null,
   "id": "baking-progress",
   "metadata": {},
   "outputs": [],
   "source": []
  },
  {
   "cell_type": "markdown",
   "id": "vocal-shooting",
   "metadata": {},
   "source": [
    "print df_final"
   ]
  },
  {
   "cell_type": "code",
   "execution_count": null,
   "id": "expired-viewer",
   "metadata": {},
   "outputs": [],
   "source": []
  },
  {
   "cell_type": "markdown",
   "id": "nutritional-progress",
   "metadata": {},
   "source": [
    "filter df_final to delete experience_level where it Null, then join this table by biggest_salary(salary_in_usd) and employee_residence with entire df"
   ]
  },
  {
   "cell_type": "code",
   "execution_count": null,
   "id": "small-polymer",
   "metadata": {},
   "outputs": [],
   "source": []
  },
  {
   "cell_type": "markdown",
   "id": "variable-twins",
   "metadata": {},
   "source": [
    "print df_final"
   ]
  },
  {
   "cell_type": "code",
   "execution_count": null,
   "id": "generic-block",
   "metadata": {},
   "outputs": [],
   "source": []
  },
  {
   "cell_type": "markdown",
   "id": "variable-moore",
   "metadata": {},
   "source": [
    "last task is to save in variable and then print this variable of the biggest salary_in_usd from df_final"
   ]
  },
  {
   "cell_type": "code",
   "execution_count": null,
   "id": "individual-institution",
   "metadata": {},
   "outputs": [],
   "source": []
  },
  {
   "cell_type": "markdown",
   "id": "stopped-procedure",
   "metadata": {},
   "source": [
    "It is the end of PySpark basics. In other lessons you will learn optimizations technics and how to make distributed system"
   ]
  }
 ],
 "metadata": {
  "kernelspec": {
   "display_name": "Python 3 (ipykernel)",
   "language": "python",
   "name": "python3"
  },
  "language_info": {
   "codemirror_mode": {
    "name": "ipython",
    "version": 3
   },
   "file_extension": ".py",
   "mimetype": "text/x-python",
   "name": "python",
   "nbconvert_exporter": "python",
   "pygments_lexer": "ipython3",
   "version": "3.10.6"
  }
 },
 "nbformat": 4,
 "nbformat_minor": 5
}
