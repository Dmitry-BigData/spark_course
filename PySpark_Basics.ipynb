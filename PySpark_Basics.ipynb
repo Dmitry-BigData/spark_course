{
 "cells": [
  {
   "cell_type": "markdown",
   "id": "trained-moses",
   "metadata": {},
   "source": [
    "import libraries(I provide all libs that I need when make this tasks, if you need some external import them here)"
   ]
  },
  {
   "cell_type": "code",
   "execution_count": 1,
   "id": "induced-african",
   "metadata": {},
   "outputs": [],
   "source": [
    "import findspark\n",
    "findspark.init()\n",
    "import pyspark\n",
    "from pyspark.sql import SparkSession, DataFrameWriter\n",
    "from pyspark.sql.types import StructType, StructField, IntegerType, StringType\n",
    "from pyspark.sql.functions import col\n",
    "from pyspark.sql.functions import max, avg, min, round\n",
    "from pyspark.sql.window import Window\n",
    "from pyspark.sql.functions import row_number, dense_rank\n",
    "from pyspark.sql.functions import when\n",
    "import pandas as pd"
   ]
  },
  {
   "cell_type": "markdown",
   "id": "permanent-photographer",
   "metadata": {},
   "source": [
    "create local SparkSession"
   ]
  },
  {
   "cell_type": "code",
   "execution_count": 2,
   "id": "stock-partnership",
   "metadata": {},
   "outputs": [
    {
     "name": "stderr",
     "output_type": "stream",
     "text": [
      "Setting default log level to \"WARN\".\n",
      "To adjust logging level use sc.setLogLevel(newLevel). For SparkR, use setLogLevel(newLevel).\n"
     ]
    }
   ],
   "source": [
    "spark = SparkSession.builder.master(\"local[1]\").appName(\"my_spark_app\").getOrCreate()"
   ]
  },
  {
   "cell_type": "markdown",
   "id": "juvenile-blame",
   "metadata": {},
   "source": [
    "read csv with inferschema"
   ]
  },
  {
   "cell_type": "code",
   "execution_count": 3,
   "id": "computational-liverpool",
   "metadata": {},
   "outputs": [
    {
     "name": "stdout",
     "output_type": "stream",
     "text": [
      "CPU times: user 2.36 ms, sys: 2.28 ms, total: 4.64 ms\n",
      "Wall time: 2.81 s\n"
     ]
    }
   ],
   "source": [
    "%%time\n",
    "df = spark.read.options(header=True, inferschema=True).csv(\"ds_salaries.csv\")"
   ]
  },
  {
   "cell_type": "markdown",
   "id": "stopped-dominant",
   "metadata": {},
   "source": [
    "read csv one more time with the same code and you will see that it almostly don't take time, because info already in SparkSession and it will not read nothing\n",
    "from this file"
   ]
  },
  {
   "cell_type": "code",
   "execution_count": 4,
   "id": "aging-neighborhood",
   "metadata": {},
   "outputs": [
    {
     "name": "stdout",
     "output_type": "stream",
     "text": [
      "CPU times: user 4.37 ms, sys: 401 µs, total: 4.77 ms\n",
      "Wall time: 281 ms\n"
     ]
    }
   ],
   "source": [
    "%%time\n",
    "df = spark.read.options(header=True, inferschema=True).csv(\"ds_salaries.csv\")"
   ]
  },
  {
   "cell_type": "markdown",
   "id": "mature-tomorrow",
   "metadata": {},
   "source": [
    "write schema of scv on screen"
   ]
  },
  {
   "cell_type": "code",
   "execution_count": 5,
   "id": "least-communications",
   "metadata": {},
   "outputs": [
    {
     "name": "stdout",
     "output_type": "stream",
     "text": [
      "root\n",
      " |-- _c0: integer (nullable = true)\n",
      " |-- work_year: integer (nullable = true)\n",
      " |-- experience_level: string (nullable = true)\n",
      " |-- employment_type: string (nullable = true)\n",
      " |-- job_title: string (nullable = true)\n",
      " |-- salary: integer (nullable = true)\n",
      " |-- salary_currency: string (nullable = true)\n",
      " |-- salary_in_usd: integer (nullable = true)\n",
      " |-- employee_residence: string (nullable = true)\n",
      " |-- remote_ratio: integer (nullable = true)\n",
      " |-- company_location: string (nullable = true)\n",
      " |-- company_size: string (nullable = true)\n",
      "\n"
     ]
    }
   ],
   "source": [
    "df.printSchema()"
   ]
  },
  {
   "cell_type": "markdown",
   "id": "connected-brother",
   "metadata": {},
   "source": [
    "create schema of this scv"
   ]
  },
  {
   "cell_type": "code",
   "execution_count": 6,
   "id": "progressive-dictionary",
   "metadata": {},
   "outputs": [],
   "source": [
    "schema = StructType([ \\\n",
    "StructField(\"id\", IntegerType(), True), \\\n",
    "StructField(\"work_year\", IntegerType(), True), \\\n",
    "StructField(\"experience_level\", StringType(), True), \\\n",
    "StructField(\"employment_type\", StringType(), True), \\\n",
    "StructField(\"job_title\", StringType(), True), \\\n",
    "StructField(\"salary\", IntegerType(), True), \\\n",
    "StructField(\"salary_currency\", StringType(), True), \\\n",
    "StructField(\"salary_in_USD\", IntegerType(), True), \\\n",
    "StructField(\"employment_residence\", StringType(), True), \\\n",
    "StructField(\"remote_ratio\", IntegerType(), True), \\\n",
    "StructField(\"company_location\", StringType(), True), \\\n",
    "StructField(\"company_size\", StringType(), True) \\\n",
    "])"
   ]
  },
  {
   "cell_type": "markdown",
   "id": "auburn-sauce",
   "metadata": {},
   "source": [
    "restart kernel without cleaning output and after restarting you need to initialize SparkSession, after initialize start execute only cells from cell with schema=\n",
    "=StructType.... \n",
    "To restart kernel click Kernel, Restart."
   ]
  },
  {
   "cell_type": "markdown",
   "id": "artistic-hospital",
   "metadata": {},
   "source": [
    "read ds_salaries with predefined schema and compare results from this cell and cell with inferSchema"
   ]
  },
  {
   "cell_type": "code",
   "execution_count": 7,
   "id": "literary-plaintiff",
   "metadata": {},
   "outputs": [
    {
     "name": "stdout",
     "output_type": "stream",
     "text": [
      "CPU times: user 4.35 ms, sys: 337 µs, total: 4.68 ms\n",
      "Wall time: 41.4 ms\n"
     ]
    }
   ],
   "source": [
    "%%time\n",
    "df1 = spark.read.schema(schema).csv(\"ds_salaries.csv\")"
   ]
  },
  {
   "cell_type": "markdown",
   "id": "senior-joint",
   "metadata": {},
   "source": [
    "this happens because read operation is lazy(transformation), but if you use inferschema it start to be action that will create Spark Job, because Spark need to loop throw all file to check datatypes for all columns and this can harm to your code(if we compare to parquet, it will also go to check data types, but parquet provide meta information, so Spark will not go throw all file, he will just read meta information, but csv don't provide such meta information). Also header make Spark to create one more Spark Job to check first line\n",
    "to define name of columns and remember to skeep it when reading. Actual reading start when you will use first action. More about Spark Jobs you will see in next topic"
   ]
  },
  {
   "cell_type": "markdown",
   "id": "underlying-assurance",
   "metadata": {},
   "source": [
    "write schema of scv on screen one more time and compare with previous"
   ]
  },
  {
   "cell_type": "code",
   "execution_count": 8,
   "id": "solid-infection",
   "metadata": {},
   "outputs": [
    {
     "name": "stdout",
     "output_type": "stream",
     "text": [
      "root\n",
      " |-- id: integer (nullable = true)\n",
      " |-- work_year: integer (nullable = true)\n",
      " |-- experience_level: string (nullable = true)\n",
      " |-- employment_type: string (nullable = true)\n",
      " |-- job_title: string (nullable = true)\n",
      " |-- salary: integer (nullable = true)\n",
      " |-- salary_currency: string (nullable = true)\n",
      " |-- salary_in_USD: integer (nullable = true)\n",
      " |-- employment_residence: string (nullable = true)\n",
      " |-- remote_ratio: integer (nullable = true)\n",
      " |-- company_location: string (nullable = true)\n",
      " |-- company_size: string (nullable = true)\n",
      "\n"
     ]
    }
   ],
   "source": [
    "df1.printSchema()"
   ]
  },
  {
   "cell_type": "markdown",
   "id": "close-water",
   "metadata": {},
   "source": [
    "now continue to work with one of the dataframes that you create"
   ]
  },
  {
   "cell_type": "markdown",
   "id": "piano-belgium",
   "metadata": {},
   "source": [
    "print data in dataframe using df.show"
   ]
  },
  {
   "cell_type": "code",
   "execution_count": 9,
   "id": "legendary-alarm",
   "metadata": {},
   "outputs": [
    {
     "name": "stdout",
     "output_type": "stream",
     "text": [
      "+----+---------+----------------+---------------+--------------------+--------+---------------+-------------+--------------------+------------+----------------+------------+\n",
      "|  id|work_year|experience_level|employment_type|           job_title|  salary|salary_currency|salary_in_USD|employment_residence|remote_ratio|company_location|company_size|\n",
      "+----+---------+----------------+---------------+--------------------+--------+---------------+-------------+--------------------+------------+----------------+------------+\n",
      "|null|     null|experience_level|employment_type|           job_title|    null|salary_currency|         null|  employee_residence|        null|company_location|company_size|\n",
      "|   0|     2020|              MI|             FT|      Data Scientist|   70000|            EUR|        79833|                  DE|           0|              DE|           L|\n",
      "|   1|     2020|              SE|             FT|Machine Learning ...|  260000|            USD|       260000|                  JP|           0|              JP|           S|\n",
      "|   2|     2020|              SE|             FT|   Big Data Engineer|   85000|            GBP|       109024|                  GB|          50|              GB|           M|\n",
      "|   3|     2020|              MI|             FT|Product Data Analyst|   20000|            USD|        20000|                  HN|           0|              HN|           S|\n",
      "|   4|     2020|              SE|             FT|Machine Learning ...|  150000|            USD|       150000|                  US|          50|              US|           L|\n",
      "|   5|     2020|              EN|             FT|        Data Analyst|   72000|            USD|        72000|                  US|         100|              US|           L|\n",
      "|   6|     2020|              SE|             FT| Lead Data Scientist|  190000|            USD|       190000|                  US|         100|              US|           S|\n",
      "|   7|     2020|              MI|             FT|      Data Scientist|11000000|            HUF|        35735|                  HU|          50|              HU|           L|\n",
      "|   8|     2020|              MI|             FT|Business Data Ana...|  135000|            USD|       135000|                  US|         100|              US|           L|\n",
      "|   9|     2020|              SE|             FT|  Lead Data Engineer|  125000|            USD|       125000|                  NZ|          50|              NZ|           S|\n",
      "|  10|     2020|              EN|             FT|      Data Scientist|   45000|            EUR|        51321|                  FR|           0|              FR|           S|\n",
      "|  11|     2020|              MI|             FT|      Data Scientist| 3000000|            INR|        40481|                  IN|           0|              IN|           L|\n",
      "|  12|     2020|              EN|             FT|      Data Scientist|   35000|            EUR|        39916|                  FR|           0|              FR|           M|\n",
      "|  13|     2020|              MI|             FT|   Lead Data Analyst|   87000|            USD|        87000|                  US|         100|              US|           L|\n",
      "|  14|     2020|              MI|             FT|        Data Analyst|   85000|            USD|        85000|                  US|         100|              US|           L|\n",
      "|  15|     2020|              MI|             FT|        Data Analyst|    8000|            USD|         8000|                  PK|          50|              PK|           L|\n",
      "|  16|     2020|              EN|             FT|       Data Engineer| 4450000|            JPY|        41689|                  JP|         100|              JP|           S|\n",
      "|  17|     2020|              SE|             FT|   Big Data Engineer|  100000|            EUR|       114047|                  PL|         100|              GB|           S|\n",
      "|  18|     2020|              EN|             FT|Data Science Cons...|  423000|            INR|         5707|                  IN|          50|              IN|           M|\n",
      "+----+---------+----------------+---------------+--------------------+--------+---------------+-------------+--------------------+------------+----------------+------------+\n",
      "only showing top 20 rows\n",
      "\n"
     ]
    }
   ],
   "source": [
    "df1.show()"
   ]
  },
  {
   "cell_type": "markdown",
   "id": "tamil-medium",
   "metadata": {},
   "source": [
    "print data in dataframe using display(df.toPandas())"
   ]
  },
  {
   "cell_type": "code",
   "execution_count": 10,
   "id": "connected-dryer",
   "metadata": {},
   "outputs": [
    {
     "data": {
      "text/html": [
       "<div>\n",
       "<style scoped>\n",
       "    .dataframe tbody tr th:only-of-type {\n",
       "        vertical-align: middle;\n",
       "    }\n",
       "\n",
       "    .dataframe tbody tr th {\n",
       "        vertical-align: top;\n",
       "    }\n",
       "\n",
       "    .dataframe thead th {\n",
       "        text-align: right;\n",
       "    }\n",
       "</style>\n",
       "<table border=\"1\" class=\"dataframe\">\n",
       "  <thead>\n",
       "    <tr style=\"text-align: right;\">\n",
       "      <th></th>\n",
       "      <th>id</th>\n",
       "      <th>work_year</th>\n",
       "      <th>experience_level</th>\n",
       "      <th>employment_type</th>\n",
       "      <th>job_title</th>\n",
       "      <th>salary</th>\n",
       "      <th>salary_currency</th>\n",
       "      <th>salary_in_USD</th>\n",
       "      <th>employment_residence</th>\n",
       "      <th>remote_ratio</th>\n",
       "      <th>company_location</th>\n",
       "      <th>company_size</th>\n",
       "    </tr>\n",
       "  </thead>\n",
       "  <tbody>\n",
       "    <tr>\n",
       "      <th>0</th>\n",
       "      <td>NaN</td>\n",
       "      <td>NaN</td>\n",
       "      <td>experience_level</td>\n",
       "      <td>employment_type</td>\n",
       "      <td>job_title</td>\n",
       "      <td>NaN</td>\n",
       "      <td>salary_currency</td>\n",
       "      <td>NaN</td>\n",
       "      <td>employee_residence</td>\n",
       "      <td>NaN</td>\n",
       "      <td>company_location</td>\n",
       "      <td>company_size</td>\n",
       "    </tr>\n",
       "    <tr>\n",
       "      <th>1</th>\n",
       "      <td>0.0</td>\n",
       "      <td>2020.0</td>\n",
       "      <td>MI</td>\n",
       "      <td>FT</td>\n",
       "      <td>Data Scientist</td>\n",
       "      <td>70000.0</td>\n",
       "      <td>EUR</td>\n",
       "      <td>79833.0</td>\n",
       "      <td>DE</td>\n",
       "      <td>0.0</td>\n",
       "      <td>DE</td>\n",
       "      <td>L</td>\n",
       "    </tr>\n",
       "    <tr>\n",
       "      <th>2</th>\n",
       "      <td>1.0</td>\n",
       "      <td>2020.0</td>\n",
       "      <td>SE</td>\n",
       "      <td>FT</td>\n",
       "      <td>Machine Learning Scientist</td>\n",
       "      <td>260000.0</td>\n",
       "      <td>USD</td>\n",
       "      <td>260000.0</td>\n",
       "      <td>JP</td>\n",
       "      <td>0.0</td>\n",
       "      <td>JP</td>\n",
       "      <td>S</td>\n",
       "    </tr>\n",
       "    <tr>\n",
       "      <th>3</th>\n",
       "      <td>2.0</td>\n",
       "      <td>2020.0</td>\n",
       "      <td>SE</td>\n",
       "      <td>FT</td>\n",
       "      <td>Big Data Engineer</td>\n",
       "      <td>85000.0</td>\n",
       "      <td>GBP</td>\n",
       "      <td>109024.0</td>\n",
       "      <td>GB</td>\n",
       "      <td>50.0</td>\n",
       "      <td>GB</td>\n",
       "      <td>M</td>\n",
       "    </tr>\n",
       "    <tr>\n",
       "      <th>4</th>\n",
       "      <td>3.0</td>\n",
       "      <td>2020.0</td>\n",
       "      <td>MI</td>\n",
       "      <td>FT</td>\n",
       "      <td>Product Data Analyst</td>\n",
       "      <td>20000.0</td>\n",
       "      <td>USD</td>\n",
       "      <td>20000.0</td>\n",
       "      <td>HN</td>\n",
       "      <td>0.0</td>\n",
       "      <td>HN</td>\n",
       "      <td>S</td>\n",
       "    </tr>\n",
       "    <tr>\n",
       "      <th>...</th>\n",
       "      <td>...</td>\n",
       "      <td>...</td>\n",
       "      <td>...</td>\n",
       "      <td>...</td>\n",
       "      <td>...</td>\n",
       "      <td>...</td>\n",
       "      <td>...</td>\n",
       "      <td>...</td>\n",
       "      <td>...</td>\n",
       "      <td>...</td>\n",
       "      <td>...</td>\n",
       "      <td>...</td>\n",
       "    </tr>\n",
       "    <tr>\n",
       "      <th>603</th>\n",
       "      <td>602.0</td>\n",
       "      <td>2022.0</td>\n",
       "      <td>SE</td>\n",
       "      <td>FT</td>\n",
       "      <td>Data Engineer</td>\n",
       "      <td>154000.0</td>\n",
       "      <td>USD</td>\n",
       "      <td>154000.0</td>\n",
       "      <td>US</td>\n",
       "      <td>100.0</td>\n",
       "      <td>US</td>\n",
       "      <td>M</td>\n",
       "    </tr>\n",
       "    <tr>\n",
       "      <th>604</th>\n",
       "      <td>603.0</td>\n",
       "      <td>2022.0</td>\n",
       "      <td>SE</td>\n",
       "      <td>FT</td>\n",
       "      <td>Data Engineer</td>\n",
       "      <td>126000.0</td>\n",
       "      <td>USD</td>\n",
       "      <td>126000.0</td>\n",
       "      <td>US</td>\n",
       "      <td>100.0</td>\n",
       "      <td>US</td>\n",
       "      <td>M</td>\n",
       "    </tr>\n",
       "    <tr>\n",
       "      <th>605</th>\n",
       "      <td>604.0</td>\n",
       "      <td>2022.0</td>\n",
       "      <td>SE</td>\n",
       "      <td>FT</td>\n",
       "      <td>Data Analyst</td>\n",
       "      <td>129000.0</td>\n",
       "      <td>USD</td>\n",
       "      <td>129000.0</td>\n",
       "      <td>US</td>\n",
       "      <td>0.0</td>\n",
       "      <td>US</td>\n",
       "      <td>M</td>\n",
       "    </tr>\n",
       "    <tr>\n",
       "      <th>606</th>\n",
       "      <td>605.0</td>\n",
       "      <td>2022.0</td>\n",
       "      <td>SE</td>\n",
       "      <td>FT</td>\n",
       "      <td>Data Analyst</td>\n",
       "      <td>150000.0</td>\n",
       "      <td>USD</td>\n",
       "      <td>150000.0</td>\n",
       "      <td>US</td>\n",
       "      <td>100.0</td>\n",
       "      <td>US</td>\n",
       "      <td>M</td>\n",
       "    </tr>\n",
       "    <tr>\n",
       "      <th>607</th>\n",
       "      <td>606.0</td>\n",
       "      <td>2022.0</td>\n",
       "      <td>MI</td>\n",
       "      <td>FT</td>\n",
       "      <td>AI Scientist</td>\n",
       "      <td>200000.0</td>\n",
       "      <td>USD</td>\n",
       "      <td>200000.0</td>\n",
       "      <td>IN</td>\n",
       "      <td>100.0</td>\n",
       "      <td>US</td>\n",
       "      <td>L</td>\n",
       "    </tr>\n",
       "  </tbody>\n",
       "</table>\n",
       "<p>608 rows × 12 columns</p>\n",
       "</div>"
      ],
      "text/plain": [
       "        id  work_year  experience_level  employment_type   \n",
       "0      NaN        NaN  experience_level  employment_type  \\\n",
       "1      0.0     2020.0                MI               FT   \n",
       "2      1.0     2020.0                SE               FT   \n",
       "3      2.0     2020.0                SE               FT   \n",
       "4      3.0     2020.0                MI               FT   \n",
       "..     ...        ...               ...              ...   \n",
       "603  602.0     2022.0                SE               FT   \n",
       "604  603.0     2022.0                SE               FT   \n",
       "605  604.0     2022.0                SE               FT   \n",
       "606  605.0     2022.0                SE               FT   \n",
       "607  606.0     2022.0                MI               FT   \n",
       "\n",
       "                      job_title    salary  salary_currency  salary_in_USD   \n",
       "0                     job_title       NaN  salary_currency            NaN  \\\n",
       "1                Data Scientist   70000.0              EUR        79833.0   \n",
       "2    Machine Learning Scientist  260000.0              USD       260000.0   \n",
       "3             Big Data Engineer   85000.0              GBP       109024.0   \n",
       "4          Product Data Analyst   20000.0              USD        20000.0   \n",
       "..                          ...       ...              ...            ...   \n",
       "603               Data Engineer  154000.0              USD       154000.0   \n",
       "604               Data Engineer  126000.0              USD       126000.0   \n",
       "605                Data Analyst  129000.0              USD       129000.0   \n",
       "606                Data Analyst  150000.0              USD       150000.0   \n",
       "607                AI Scientist  200000.0              USD       200000.0   \n",
       "\n",
       "    employment_residence  remote_ratio  company_location  company_size  \n",
       "0     employee_residence           NaN  company_location  company_size  \n",
       "1                     DE           0.0                DE             L  \n",
       "2                     JP           0.0                JP             S  \n",
       "3                     GB          50.0                GB             M  \n",
       "4                     HN           0.0                HN             S  \n",
       "..                   ...           ...               ...           ...  \n",
       "603                   US         100.0                US             M  \n",
       "604                   US         100.0                US             M  \n",
       "605                   US           0.0                US             M  \n",
       "606                   US         100.0                US             M  \n",
       "607                   IN         100.0                US             L  \n",
       "\n",
       "[608 rows x 12 columns]"
      ]
     },
     "metadata": {},
     "output_type": "display_data"
    }
   ],
   "source": [
    "display(df1.toPandas())"
   ]
  },
  {
   "cell_type": "markdown",
   "id": "opponent-gazette",
   "metadata": {},
   "source": [
    "create df_job_title that consists from all job_titles without duplicates"
   ]
  },
  {
   "cell_type": "code",
   "execution_count": 11,
   "id": "friendly-cartridge",
   "metadata": {},
   "outputs": [],
   "source": [
    "df_job_title = df1.select(\"job_title\").dropDuplicates()"
   ]
  },
  {
   "cell_type": "markdown",
   "id": "offshore-architecture",
   "metadata": {},
   "source": [
    "print all rows from df_job_titles without truncating jobs"
   ]
  },
  {
   "cell_type": "code",
   "execution_count": 12,
   "id": "asian-edition",
   "metadata": {},
   "outputs": [
    {
     "name": "stdout",
     "output_type": "stream",
     "text": [
      "+----------------------------------------+\n",
      "|job_title                               |\n",
      "+----------------------------------------+\n",
      "|3D Computer Vision Researcher           |\n",
      "|Lead Data Engineer                      |\n",
      "|Head of Machine Learning                |\n",
      "|Data Specialist                         |\n",
      "|Data Analytics Lead                     |\n",
      "|Machine Learning Scientist              |\n",
      "|Lead Data Analyst                       |\n",
      "|Data Engineering Manager                |\n",
      "|Staff Data Scientist                    |\n",
      "|ETL Developer                           |\n",
      "|Director of Data Engineering            |\n",
      "|Product Data Analyst                    |\n",
      "|Principal Data Scientist                |\n",
      "|AI Scientist                            |\n",
      "|Director of Data Science                |\n",
      "|Machine Learning Engineer               |\n",
      "|Lead Data Scientist                     |\n",
      "|Machine Learning Infrastructure Engineer|\n",
      "|Data Science Engineer                   |\n",
      "|Machine Learning Manager                |\n",
      "+----------------------------------------+\n",
      "only showing top 20 rows\n",
      "\n"
     ]
    }
   ],
   "source": [
    "df_job_title.show(truncate=False)"
   ]
  },
  {
   "cell_type": "markdown",
   "id": "interim-pharmacy",
   "metadata": {},
   "source": [
    "create  df_analytic that will consists from max, avg, min USD salaries for all job_titles using groupBy. name of fields is avg_salary, min_salary, max_salary"
   ]
  },
  {
   "cell_type": "code",
   "execution_count": 13,
   "id": "naval-roller",
   "metadata": {},
   "outputs": [],
   "source": [
    "df_analytic = df1.groupBy([\"job_title\"]) \\\n",
    ".agg( \\\n",
    "     avg(\"salary_in_usd\").alias(\"avg_salary\"), \\\n",
    "     min(\"salary_in_usd\").alias(\"min_salary\"), \\\n",
    "     max(\"salary_in_usd\").alias(\"max_salary\") \\\n",
    "    )"
   ]
  },
  {
   "cell_type": "markdown",
   "id": "french-pledge",
   "metadata": {},
   "source": [
    "print all rows from df_analytic without trancating jobs"
   ]
  },
  {
   "cell_type": "code",
   "execution_count": 14,
   "id": "bacterial-depression",
   "metadata": {},
   "outputs": [
    {
     "name": "stdout",
     "output_type": "stream",
     "text": [
      "+----------------------------------------+------------------+----------+----------+\n",
      "|job_title                               |avg_salary        |min_salary|max_salary|\n",
      "+----------------------------------------+------------------+----------+----------+\n",
      "|3D Computer Vision Researcher           |5409.0            |5409      |5409      |\n",
      "|Lead Data Engineer                      |139724.5          |56000     |276000    |\n",
      "|Head of Machine Learning                |79039.0           |79039     |79039     |\n",
      "|Data Specialist                         |165000.0          |165000    |165000    |\n",
      "|Data Analytics Lead                     |405000.0          |405000    |405000    |\n",
      "|Machine Learning Scientist              |158412.5          |12000     |260000    |\n",
      "|Lead Data Analyst                       |92203.0           |19609     |170000    |\n",
      "|Data Engineering Manager                |123227.2          |59303     |174000    |\n",
      "|Staff Data Scientist                    |105000.0          |105000    |105000    |\n",
      "|ETL Developer                           |54957.0           |54957     |54957     |\n",
      "|Director of Data Engineering            |156738.0          |113476    |200000    |\n",
      "|Product Data Analyst                    |13036.0           |6072      |20000     |\n",
      "|Principal Data Scientist                |215242.42857142858|148261    |416000    |\n",
      "|AI Scientist                            |66135.57142857143 |12000     |200000    |\n",
      "|Director of Data Science                |195074.0          |130026    |325000    |\n",
      "|Machine Learning Engineer               |104880.14634146342|20000     |250000    |\n",
      "|Lead Data Scientist                     |115190.0          |40570     |190000    |\n",
      "|Machine Learning Infrastructure Engineer|101145.0          |50180     |195000    |\n",
      "|Data Science Engineer                   |75803.33333333333 |40189     |127221    |\n",
      "|Machine Learning Manager                |117104.0          |117104    |117104    |\n",
      "+----------------------------------------+------------------+----------+----------+\n",
      "only showing top 20 rows\n",
      "\n"
     ]
    }
   ],
   "source": [
    "df_analytic.show(truncate=False)"
   ]
  },
  {
   "cell_type": "markdown",
   "id": "hazardous-color",
   "metadata": {},
   "source": [
    "now you need to add in df_analytic column row_id, that will show order of all job_titles depending on avg salary. they should be descending"
   ]
  },
  {
   "cell_type": "code",
   "execution_count": 15,
   "id": "nearby-treasurer",
   "metadata": {},
   "outputs": [],
   "source": [
    "window_spec = Window.orderBy(col(\"avg_salary\").desc())\n",
    "df_analytic = df_analytic.withColumn(\"row_id\", dense_rank().over(window_spec))"
   ]
  },
  {
   "cell_type": "markdown",
   "id": "documented-catalog",
   "metadata": {},
   "source": [
    "print all data from df_analytic"
   ]
  },
  {
   "cell_type": "code",
   "execution_count": 16,
   "id": "confirmed-monitoring",
   "metadata": {},
   "outputs": [
    {
     "name": "stdout",
     "output_type": "stream",
     "text": [
      "23/05/19 18:17:00 WARN WindowExec: No Partition Defined for Window operation! Moving all data to a single partition, this can cause serious performance degradation.\n",
      "23/05/19 18:17:00 WARN WindowExec: No Partition Defined for Window operation! Moving all data to a single partition, this can cause serious performance degradation.\n",
      "23/05/19 18:17:00 WARN WindowExec: No Partition Defined for Window operation! Moving all data to a single partition, this can cause serious performance degradation.\n",
      "23/05/19 18:17:00 WARN WindowExec: No Partition Defined for Window operation! Moving all data to a single partition, this can cause serious performance degradation.\n",
      "23/05/19 18:17:00 WARN WindowExec: No Partition Defined for Window operation! Moving all data to a single partition, this can cause serious performance degradation.\n",
      "23/05/19 18:17:00 WARN WindowExec: No Partition Defined for Window operation! Moving all data to a single partition, this can cause serious performance degradation.\n",
      "+----------------------------------+------------------+----------+----------+------+\n",
      "|job_title                         |avg_salary        |min_salary|max_salary|row_id|\n",
      "+----------------------------------+------------------+----------+----------+------+\n",
      "|Data Analytics Lead               |405000.0          |405000    |405000    |1     |\n",
      "|Principal Data Engineer           |328333.3333333333 |185000    |600000    |2     |\n",
      "|Financial Data Analyst            |275000.0          |100000    |450000    |3     |\n",
      "|Principal Data Scientist          |215242.42857142858|148261    |416000    |4     |\n",
      "|Director of Data Science          |195074.0          |130026    |325000    |5     |\n",
      "|Data Architect                    |177873.9090909091 |90700     |266400    |6     |\n",
      "|Applied Data Scientist            |175655.0          |54238     |380000    |7     |\n",
      "|Analytics Engineer                |175000.0          |135000    |205300    |8     |\n",
      "|Data Specialist                   |165000.0          |165000    |165000    |9     |\n",
      "|Head of Data                      |160162.6          |32974     |235000    |10    |\n",
      "|Machine Learning Scientist        |158412.5          |12000     |260000    |11    |\n",
      "|Data Science Manager              |158328.5          |54094     |241000    |12    |\n",
      "|Director of Data Engineering      |156738.0          |113476    |200000    |13    |\n",
      "|Head of Data Science              |146718.75         |85000     |224000    |14    |\n",
      "|Applied Machine Learning Scientist|142068.75         |31875     |423000    |15    |\n",
      "|Lead Data Engineer                |139724.5          |56000     |276000    |16    |\n",
      "|Data Analytics Manager            |127134.28571428571|105400    |150260    |17    |\n",
      "|Cloud Data Engineer               |124647.0          |89294     |160000    |18    |\n",
      "|Data Engineering Manager          |123227.2          |59303     |174000    |19    |\n",
      "|Principal Data Analyst            |122500.0          |75000     |170000    |20    |\n",
      "+----------------------------------+------------------+----------+----------+------+\n",
      "only showing top 20 rows\n",
      "\n"
     ]
    }
   ],
   "source": [
    "df_analytic.show(truncate=False)"
   ]
  },
  {
   "cell_type": "markdown",
   "id": "satellite-quarter",
   "metadata": {},
   "source": [
    "it isn't beautifull, so we need to put now row_id on first place in df_analytic"
   ]
  },
  {
   "cell_type": "code",
   "execution_count": 17,
   "id": "ranging-tribune",
   "metadata": {},
   "outputs": [],
   "source": [
    "df_analytic = df_analytic.select(\"row_id\", \"job_title\", round(\"avg_salary\", 2).alias(\"avg_salary\"), \"min_salary\", \"max_salary\")"
   ]
  },
  {
   "cell_type": "markdown",
   "id": "reliable-amsterdam",
   "metadata": {},
   "source": [
    "print df_analytic now"
   ]
  },
  {
   "cell_type": "code",
   "execution_count": 18,
   "id": "classical-biology",
   "metadata": {},
   "outputs": [
    {
     "name": "stdout",
     "output_type": "stream",
     "text": [
      "23/05/19 18:17:00 WARN WindowExec: No Partition Defined for Window operation! Moving all data to a single partition, this can cause serious performance degradation.\n",
      "23/05/19 18:17:00 WARN WindowExec: No Partition Defined for Window operation! Moving all data to a single partition, this can cause serious performance degradation.\n",
      "23/05/19 18:17:00 WARN WindowExec: No Partition Defined for Window operation! Moving all data to a single partition, this can cause serious performance degradation.\n",
      "23/05/19 18:17:00 WARN WindowExec: No Partition Defined for Window operation! Moving all data to a single partition, this can cause serious performance degradation.\n",
      "23/05/19 18:17:00 WARN WindowExec: No Partition Defined for Window operation! Moving all data to a single partition, this can cause serious performance degradation.\n",
      "23/05/19 18:17:00 WARN WindowExec: No Partition Defined for Window operation! Moving all data to a single partition, this can cause serious performance degradation.\n",
      "+------+----------------------------------+----------+----------+----------+\n",
      "|row_id|job_title                         |avg_salary|min_salary|max_salary|\n",
      "+------+----------------------------------+----------+----------+----------+\n",
      "|1     |Data Analytics Lead               |405000.0  |405000    |405000    |\n",
      "|2     |Principal Data Engineer           |328333.33 |185000    |600000    |\n",
      "|3     |Financial Data Analyst            |275000.0  |100000    |450000    |\n",
      "|4     |Principal Data Scientist          |215242.43 |148261    |416000    |\n",
      "|5     |Director of Data Science          |195074.0  |130026    |325000    |\n",
      "|6     |Data Architect                    |177873.91 |90700     |266400    |\n",
      "|7     |Applied Data Scientist            |175655.0  |54238     |380000    |\n",
      "|8     |Analytics Engineer                |175000.0  |135000    |205300    |\n",
      "|9     |Data Specialist                   |165000.0  |165000    |165000    |\n",
      "|10    |Head of Data                      |160162.6  |32974     |235000    |\n",
      "|11    |Machine Learning Scientist        |158412.5  |12000     |260000    |\n",
      "|12    |Data Science Manager              |158328.5  |54094     |241000    |\n",
      "|13    |Director of Data Engineering      |156738.0  |113476    |200000    |\n",
      "|14    |Head of Data Science              |146718.75 |85000     |224000    |\n",
      "|15    |Applied Machine Learning Scientist|142068.75 |31875     |423000    |\n",
      "|16    |Lead Data Engineer                |139724.5  |56000     |276000    |\n",
      "|17    |Data Analytics Manager            |127134.29 |105400    |150260    |\n",
      "|18    |Cloud Data Engineer               |124647.0  |89294     |160000    |\n",
      "|19    |Data Engineering Manager          |123227.2  |59303     |174000    |\n",
      "|20    |Principal Data Analyst            |122500.0  |75000     |170000    |\n",
      "+------+----------------------------------+----------+----------+----------+\n",
      "only showing top 20 rows\n",
      "\n"
     ]
    }
   ],
   "source": [
    "df_analytic.show(truncate=False)"
   ]
  },
  {
   "cell_type": "markdown",
   "id": "hybrid-queensland",
   "metadata": {},
   "source": [
    "here you need to create df_exp_lvl with the biggest usd_salary(biggest_salary) for each experience_level(you need to save all fields like in entire dataframe)"
   ]
  },
  {
   "cell_type": "code",
   "execution_count": 19,
   "id": "dental-wrist",
   "metadata": {},
   "outputs": [],
   "source": [
    "exp_window_spec = Window.partitionBy(\"experience_level\")\n",
    "df_exp_lvl = df1.withColumn(\"biggest_salary\", max(\"salary_in_usd\").over(exp_window_spec))"
   ]
  },
  {
   "cell_type": "markdown",
   "id": "innovative-hierarchy",
   "metadata": {},
   "source": [
    "print here df_exp_lvl"
   ]
  },
  {
   "cell_type": "code",
   "execution_count": 20,
   "id": "standing-toilet",
   "metadata": {
    "scrolled": true
   },
   "outputs": [
    {
     "data": {
      "text/html": [
       "<div>\n",
       "<style scoped>\n",
       "    .dataframe tbody tr th:only-of-type {\n",
       "        vertical-align: middle;\n",
       "    }\n",
       "\n",
       "    .dataframe tbody tr th {\n",
       "        vertical-align: top;\n",
       "    }\n",
       "\n",
       "    .dataframe thead th {\n",
       "        text-align: right;\n",
       "    }\n",
       "</style>\n",
       "<table border=\"1\" class=\"dataframe\">\n",
       "  <thead>\n",
       "    <tr style=\"text-align: right;\">\n",
       "      <th></th>\n",
       "      <th>id</th>\n",
       "      <th>work_year</th>\n",
       "      <th>experience_level</th>\n",
       "      <th>employment_type</th>\n",
       "      <th>job_title</th>\n",
       "      <th>salary</th>\n",
       "      <th>salary_currency</th>\n",
       "      <th>salary_in_USD</th>\n",
       "      <th>employment_residence</th>\n",
       "      <th>remote_ratio</th>\n",
       "      <th>company_location</th>\n",
       "      <th>company_size</th>\n",
       "      <th>biggest_salary</th>\n",
       "    </tr>\n",
       "  </thead>\n",
       "  <tbody>\n",
       "    <tr>\n",
       "      <th>0</th>\n",
       "      <td>5.0</td>\n",
       "      <td>2020.0</td>\n",
       "      <td>EN</td>\n",
       "      <td>FT</td>\n",
       "      <td>Data Analyst</td>\n",
       "      <td>72000.0</td>\n",
       "      <td>USD</td>\n",
       "      <td>72000.0</td>\n",
       "      <td>US</td>\n",
       "      <td>100.0</td>\n",
       "      <td>US</td>\n",
       "      <td>L</td>\n",
       "      <td>250000.0</td>\n",
       "    </tr>\n",
       "    <tr>\n",
       "      <th>1</th>\n",
       "      <td>10.0</td>\n",
       "      <td>2020.0</td>\n",
       "      <td>EN</td>\n",
       "      <td>FT</td>\n",
       "      <td>Data Scientist</td>\n",
       "      <td>45000.0</td>\n",
       "      <td>EUR</td>\n",
       "      <td>51321.0</td>\n",
       "      <td>FR</td>\n",
       "      <td>0.0</td>\n",
       "      <td>FR</td>\n",
       "      <td>S</td>\n",
       "      <td>250000.0</td>\n",
       "    </tr>\n",
       "    <tr>\n",
       "      <th>2</th>\n",
       "      <td>12.0</td>\n",
       "      <td>2020.0</td>\n",
       "      <td>EN</td>\n",
       "      <td>FT</td>\n",
       "      <td>Data Scientist</td>\n",
       "      <td>35000.0</td>\n",
       "      <td>EUR</td>\n",
       "      <td>39916.0</td>\n",
       "      <td>FR</td>\n",
       "      <td>0.0</td>\n",
       "      <td>FR</td>\n",
       "      <td>M</td>\n",
       "      <td>250000.0</td>\n",
       "    </tr>\n",
       "    <tr>\n",
       "      <th>3</th>\n",
       "      <td>16.0</td>\n",
       "      <td>2020.0</td>\n",
       "      <td>EN</td>\n",
       "      <td>FT</td>\n",
       "      <td>Data Engineer</td>\n",
       "      <td>4450000.0</td>\n",
       "      <td>JPY</td>\n",
       "      <td>41689.0</td>\n",
       "      <td>JP</td>\n",
       "      <td>100.0</td>\n",
       "      <td>JP</td>\n",
       "      <td>S</td>\n",
       "      <td>250000.0</td>\n",
       "    </tr>\n",
       "    <tr>\n",
       "      <th>4</th>\n",
       "      <td>18.0</td>\n",
       "      <td>2020.0</td>\n",
       "      <td>EN</td>\n",
       "      <td>FT</td>\n",
       "      <td>Data Science Consultant</td>\n",
       "      <td>423000.0</td>\n",
       "      <td>INR</td>\n",
       "      <td>5707.0</td>\n",
       "      <td>IN</td>\n",
       "      <td>50.0</td>\n",
       "      <td>IN</td>\n",
       "      <td>M</td>\n",
       "      <td>250000.0</td>\n",
       "    </tr>\n",
       "    <tr>\n",
       "      <th>...</th>\n",
       "      <td>...</td>\n",
       "      <td>...</td>\n",
       "      <td>...</td>\n",
       "      <td>...</td>\n",
       "      <td>...</td>\n",
       "      <td>...</td>\n",
       "      <td>...</td>\n",
       "      <td>...</td>\n",
       "      <td>...</td>\n",
       "      <td>...</td>\n",
       "      <td>...</td>\n",
       "      <td>...</td>\n",
       "      <td>...</td>\n",
       "    </tr>\n",
       "    <tr>\n",
       "      <th>603</th>\n",
       "      <td>602.0</td>\n",
       "      <td>2022.0</td>\n",
       "      <td>SE</td>\n",
       "      <td>FT</td>\n",
       "      <td>Data Engineer</td>\n",
       "      <td>154000.0</td>\n",
       "      <td>USD</td>\n",
       "      <td>154000.0</td>\n",
       "      <td>US</td>\n",
       "      <td>100.0</td>\n",
       "      <td>US</td>\n",
       "      <td>M</td>\n",
       "      <td>412000.0</td>\n",
       "    </tr>\n",
       "    <tr>\n",
       "      <th>604</th>\n",
       "      <td>603.0</td>\n",
       "      <td>2022.0</td>\n",
       "      <td>SE</td>\n",
       "      <td>FT</td>\n",
       "      <td>Data Engineer</td>\n",
       "      <td>126000.0</td>\n",
       "      <td>USD</td>\n",
       "      <td>126000.0</td>\n",
       "      <td>US</td>\n",
       "      <td>100.0</td>\n",
       "      <td>US</td>\n",
       "      <td>M</td>\n",
       "      <td>412000.0</td>\n",
       "    </tr>\n",
       "    <tr>\n",
       "      <th>605</th>\n",
       "      <td>604.0</td>\n",
       "      <td>2022.0</td>\n",
       "      <td>SE</td>\n",
       "      <td>FT</td>\n",
       "      <td>Data Analyst</td>\n",
       "      <td>129000.0</td>\n",
       "      <td>USD</td>\n",
       "      <td>129000.0</td>\n",
       "      <td>US</td>\n",
       "      <td>0.0</td>\n",
       "      <td>US</td>\n",
       "      <td>M</td>\n",
       "      <td>412000.0</td>\n",
       "    </tr>\n",
       "    <tr>\n",
       "      <th>606</th>\n",
       "      <td>605.0</td>\n",
       "      <td>2022.0</td>\n",
       "      <td>SE</td>\n",
       "      <td>FT</td>\n",
       "      <td>Data Analyst</td>\n",
       "      <td>150000.0</td>\n",
       "      <td>USD</td>\n",
       "      <td>150000.0</td>\n",
       "      <td>US</td>\n",
       "      <td>100.0</td>\n",
       "      <td>US</td>\n",
       "      <td>M</td>\n",
       "      <td>412000.0</td>\n",
       "    </tr>\n",
       "    <tr>\n",
       "      <th>607</th>\n",
       "      <td>NaN</td>\n",
       "      <td>NaN</td>\n",
       "      <td>experience_level</td>\n",
       "      <td>employment_type</td>\n",
       "      <td>job_title</td>\n",
       "      <td>NaN</td>\n",
       "      <td>salary_currency</td>\n",
       "      <td>NaN</td>\n",
       "      <td>employee_residence</td>\n",
       "      <td>NaN</td>\n",
       "      <td>company_location</td>\n",
       "      <td>company_size</td>\n",
       "      <td>NaN</td>\n",
       "    </tr>\n",
       "  </tbody>\n",
       "</table>\n",
       "<p>608 rows × 13 columns</p>\n",
       "</div>"
      ],
      "text/plain": [
       "        id  work_year  experience_level  employment_type   \n",
       "0      5.0     2020.0                EN               FT  \\\n",
       "1     10.0     2020.0                EN               FT   \n",
       "2     12.0     2020.0                EN               FT   \n",
       "3     16.0     2020.0                EN               FT   \n",
       "4     18.0     2020.0                EN               FT   \n",
       "..     ...        ...               ...              ...   \n",
       "603  602.0     2022.0                SE               FT   \n",
       "604  603.0     2022.0                SE               FT   \n",
       "605  604.0     2022.0                SE               FT   \n",
       "606  605.0     2022.0                SE               FT   \n",
       "607    NaN        NaN  experience_level  employment_type   \n",
       "\n",
       "                   job_title     salary  salary_currency  salary_in_USD   \n",
       "0               Data Analyst    72000.0              USD        72000.0  \\\n",
       "1             Data Scientist    45000.0              EUR        51321.0   \n",
       "2             Data Scientist    35000.0              EUR        39916.0   \n",
       "3              Data Engineer  4450000.0              JPY        41689.0   \n",
       "4    Data Science Consultant   423000.0              INR         5707.0   \n",
       "..                       ...        ...              ...            ...   \n",
       "603            Data Engineer   154000.0              USD       154000.0   \n",
       "604            Data Engineer   126000.0              USD       126000.0   \n",
       "605             Data Analyst   129000.0              USD       129000.0   \n",
       "606             Data Analyst   150000.0              USD       150000.0   \n",
       "607                job_title        NaN  salary_currency            NaN   \n",
       "\n",
       "    employment_residence  remote_ratio  company_location  company_size   \n",
       "0                     US         100.0                US             L  \\\n",
       "1                     FR           0.0                FR             S   \n",
       "2                     FR           0.0                FR             M   \n",
       "3                     JP         100.0                JP             S   \n",
       "4                     IN          50.0                IN             M   \n",
       "..                   ...           ...               ...           ...   \n",
       "603                   US         100.0                US             M   \n",
       "604                   US         100.0                US             M   \n",
       "605                   US           0.0                US             M   \n",
       "606                   US         100.0                US             M   \n",
       "607   employee_residence           NaN  company_location  company_size   \n",
       "\n",
       "     biggest_salary  \n",
       "0          250000.0  \n",
       "1          250000.0  \n",
       "2          250000.0  \n",
       "3          250000.0  \n",
       "4          250000.0  \n",
       "..              ...  \n",
       "603        412000.0  \n",
       "604        412000.0  \n",
       "605        412000.0  \n",
       "606        412000.0  \n",
       "607             NaN  \n",
       "\n",
       "[608 rows x 13 columns]"
      ]
     },
     "execution_count": 20,
     "metadata": {},
     "output_type": "execute_result"
    }
   ],
   "source": [
    "df_exp_lvl.toPandas()"
   ]
  },
  {
   "cell_type": "markdown",
   "id": "hawaiian-mortgage",
   "metadata": {},
   "source": [
    "create df_best that consists from rows where salary of guy same as biggest salary for other people in his exp_lvl and choose only columns: id, experience_level, biggest_salary, employee_residence"
   ]
  },
  {
   "cell_type": "code",
   "execution_count": 21,
   "id": "toxic-prompt",
   "metadata": {},
   "outputs": [],
   "source": [
    "df_best = df_exp_lvl.select(\"id\", \"experience_level\", \"biggest_salary\", \"employment_residence\").where(col(\"salary_in_usd\") == col(\"biggest_salary\"))"
   ]
  },
  {
   "cell_type": "markdown",
   "id": "complex-librarian",
   "metadata": {},
   "source": [
    "print df_best"
   ]
  },
  {
   "cell_type": "code",
   "execution_count": 22,
   "id": "smart-texas",
   "metadata": {},
   "outputs": [
    {
     "name": "stdout",
     "output_type": "stream",
     "text": [
      "+---+----------------+--------------+--------------------+\n",
      "| id|experience_level|biggest_salary|employment_residence|\n",
      "+---+----------------+--------------+--------------------+\n",
      "| 37|              EN|        250000|                  US|\n",
      "|252|              EX|        600000|                  US|\n",
      "| 33|              MI|        450000|                  US|\n",
      "| 97|              MI|        450000|                  US|\n",
      "| 63|              SE|        412000|                  US|\n",
      "+---+----------------+--------------+--------------------+\n",
      "\n"
     ]
    }
   ],
   "source": [
    "df_best.show()"
   ]
  },
  {
   "cell_type": "markdown",
   "id": "integral-brass",
   "metadata": {},
   "source": [
    "drop duplicates if exist by experience_level"
   ]
  },
  {
   "cell_type": "code",
   "execution_count": 23,
   "id": "immune-marine",
   "metadata": {},
   "outputs": [],
   "source": [
    "df_best = df_best.dropDuplicates([\"experience_level\"])"
   ]
  },
  {
   "cell_type": "markdown",
   "id": "connected-credit",
   "metadata": {},
   "source": [
    "print df_best"
   ]
  },
  {
   "cell_type": "code",
   "execution_count": 24,
   "id": "specified-wellington",
   "metadata": {},
   "outputs": [
    {
     "name": "stdout",
     "output_type": "stream",
     "text": [
      "+---+----------------+--------------+--------------------+\n",
      "| id|experience_level|biggest_salary|employment_residence|\n",
      "+---+----------------+--------------+--------------------+\n",
      "| 37|              EN|        250000|                  US|\n",
      "|252|              EX|        600000|                  US|\n",
      "| 33|              MI|        450000|                  US|\n",
      "| 63|              SE|        412000|                  US|\n",
      "+---+----------------+--------------+--------------------+\n",
      "\n"
     ]
    }
   ],
   "source": [
    "df_best.show()"
   ]
  },
  {
   "cell_type": "markdown",
   "id": "facial-plant",
   "metadata": {},
   "source": [
    "create df_new_best from df_best without id, and make the next: when exp_level = MI we want middle, when SE we want senior, else Null"
   ]
  },
  {
   "cell_type": "code",
   "execution_count": 25,
   "id": "infinite-retail",
   "metadata": {},
   "outputs": [],
   "source": [
    "df_new_best = df_best.select(\"experience_level\", \"biggest_salary\", \"employment_residence\")\n",
    "df_new_best = df_new_best.withColumn(\"experience_level\", \\\n",
    "                                     when(df_new_best.experience_level == \"MI\", \"Middle\")\n",
    "                                     .when(df_new_best.experience_level == \"SE\", \"Senior\")\n",
    "                                     .otherwise(\"Null\"))"
   ]
  },
  {
   "cell_type": "markdown",
   "id": "changing-fairy",
   "metadata": {},
   "source": [
    "print df_new_best"
   ]
  },
  {
   "cell_type": "code",
   "execution_count": 26,
   "id": "endless-framework",
   "metadata": {},
   "outputs": [
    {
     "name": "stdout",
     "output_type": "stream",
     "text": [
      "+----------------+--------------+--------------------+\n",
      "|experience_level|biggest_salary|employment_residence|\n",
      "+----------------+--------------+--------------------+\n",
      "|            Null|        250000|                  US|\n",
      "|            Null|        600000|                  US|\n",
      "|          Middle|        450000|                  US|\n",
      "|          Senior|        412000|                  US|\n",
      "+----------------+--------------+--------------------+\n",
      "\n"
     ]
    }
   ],
   "source": [
    "df_new_best.show()"
   ]
  },
  {
   "cell_type": "markdown",
   "id": "mineral-status",
   "metadata": {},
   "source": [
    "write df_new_best like 1.csv and load then it to df_final"
   ]
  },
  {
   "cell_type": "code",
   "execution_count": 27,
   "id": "baking-progress",
   "metadata": {},
   "outputs": [
    {
     "name": "stdout",
     "output_type": "stream",
     "text": [
      "23/05/19 18:17:02 WARN ParseMode: overwrite is not a valid parse mode. Using PERMISSIVE.\n"
     ]
    }
   ],
   "source": [
    "import os\n",
    "import shutil\n",
    "\n",
    "def copy_csv_file(source_dir, destination_dir):\n",
    "    for file in os.listdir(source_dir):\n",
    "        if file.endswith(\".csv\"):\n",
    "            csv_file = file\n",
    "            break\n",
    "    \n",
    "    # Copy .csv file to the source directory name\n",
    "    file_source_path = os.path.join(source_dir, csv_file) # Full source path of file\n",
    "    new_csv_file_name = os.path.basename(source_dir.rstrip('/')) + '.csv'\n",
    "    os.rename(file_source_path, new_csv_file_name)\n",
    "\n",
    "    # Delete the source directory\n",
    "    shutil.rmtree(source_dir)\n",
    "\n",
    "df_new_best.write.format(\"csv\").mode(\"overwrite\").options(header=\"True\", schema=schema, mode=\"overwrite\").save(\"1\")\n",
    "\n",
    "source_directory = \"1/\"\n",
    "destination_directory = \"./1.csv\"\n",
    "\n",
    "copy_csv_file(source_directory, destination_directory)\n",
    "\n",
    "schema = StructType() \\\n",
    ".add(\"experience_level\", StringType(), True) \\\n",
    ".add(\"biggest_salary\", IntegerType(), True) \\\n",
    ".add(\"employment_residence\", StringType(), True) \n",
    "\n",
    "df_final = spark.read.options(header=\"True\", schema=schema).csv(\"1.csv\")"
   ]
  },
  {
   "cell_type": "markdown",
   "id": "vocal-shooting",
   "metadata": {},
   "source": [
    "print df_final"
   ]
  },
  {
   "cell_type": "code",
   "execution_count": 28,
   "id": "expired-viewer",
   "metadata": {},
   "outputs": [
    {
     "name": "stdout",
     "output_type": "stream",
     "text": [
      "+----------------+--------------+--------------------+\n",
      "|experience_level|biggest_salary|employment_residence|\n",
      "+----------------+--------------+--------------------+\n",
      "|            Null|        250000|                  US|\n",
      "|            Null|        600000|                  US|\n",
      "|          Middle|        450000|                  US|\n",
      "|          Senior|        412000|                  US|\n",
      "+----------------+--------------+--------------------+\n",
      "\n"
     ]
    }
   ],
   "source": [
    "df_final.show()"
   ]
  },
  {
   "cell_type": "markdown",
   "id": "nutritional-progress",
   "metadata": {},
   "source": [
    "filter df_final to delete experience_level where it Null, then join this table by biggest_salary(salary_in_usd) and employee_residence with entire df"
   ]
  },
  {
   "cell_type": "code",
   "execution_count": 29,
   "id": "small-polymer",
   "metadata": {},
   "outputs": [],
   "source": [
    "df_final_filtered = df_final.where(df_final.experience_level != \"Null\")"
   ]
  },
  {
   "cell_type": "markdown",
   "id": "variable-twins",
   "metadata": {},
   "source": [
    "print df_final"
   ]
  },
  {
   "cell_type": "code",
   "execution_count": 30,
   "id": "generic-block",
   "metadata": {},
   "outputs": [
    {
     "name": "stdout",
     "output_type": "stream",
     "text": [
      "+----------------+--------------+--------------------+\n",
      "|experience_level|biggest_salary|employment_residence|\n",
      "+----------------+--------------+--------------------+\n",
      "|          Middle|        450000|                  US|\n",
      "|          Senior|        412000|                  US|\n",
      "+----------------+--------------+--------------------+\n",
      "\n"
     ]
    }
   ],
   "source": [
    "df_final_filtered.show()"
   ]
  },
  {
   "cell_type": "markdown",
   "id": "variable-moore",
   "metadata": {},
   "source": [
    "last task is to save in variable and then print this variable of the biggest salary_in_usd from df_final"
   ]
  },
  {
   "cell_type": "code",
   "execution_count": 31,
   "id": "individual-institution",
   "metadata": {},
   "outputs": [
    {
     "name": "stdout",
     "output_type": "stream",
     "text": [
      "450000\n"
     ]
    }
   ],
   "source": [
    "df_biggest_salary = df_final_filtered.select(\"biggest_salary\").orderBy(col(\"biggest_salary\").desc()).limit(1)\n",
    "data = df_biggest_salary.collect()\n",
    "biggest_salary = int(data[0][0])\n",
    "print(biggest_salary)"
   ]
  },
  {
   "cell_type": "markdown",
   "id": "stopped-procedure",
   "metadata": {},
   "source": [
    "It is the end of PySpark basics. In other lessons you will learn optimizations technics and how to make distributed system"
   ]
  }
 ],
 "metadata": {
  "kernelspec": {
   "display_name": "Python 3 (ipykernel)",
   "language": "python",
   "name": "python3"
  },
  "language_info": {
   "codemirror_mode": {
    "name": "ipython",
    "version": 3
   },
   "file_extension": ".py",
   "mimetype": "text/x-python",
   "name": "python",
   "nbconvert_exporter": "python",
   "pygments_lexer": "ipython3",
   "version": "3.10.6"
  }
 },
 "nbformat": 4,
 "nbformat_minor": 5
}
